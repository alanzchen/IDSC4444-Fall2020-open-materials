{
 "cells": [
  {
   "cell_type": "markdown",
   "metadata": {},
   "source": [
    "# R for visualization"
   ]
  },
  {
   "cell_type": "code",
   "execution_count": null,
   "metadata": {},
   "outputs": [],
   "source": [
    "mydata_merge # note that the varialbes are not shared across notebooks"
   ]
  },
  {
   "cell_type": "markdown",
   "metadata": {},
   "source": [
    "Load the example dataset."
   ]
  },
  {
   "cell_type": "code",
   "execution_count": null,
   "metadata": {},
   "outputs": [],
   "source": [
    "data(\"WorldPhones\") \n",
    "head(WorldPhones)"
   ]
  },
  {
   "cell_type": "code",
   "execution_count": null,
   "metadata": {},
   "outputs": [],
   "source": [
    "#Get only the data for 1951\n",
    "phones_51 <- WorldPhones[\"1951\",]"
   ]
  },
  {
   "cell_type": "code",
   "execution_count": null,
   "metadata": {},
   "outputs": [],
   "source": [
    "phones_51"
   ]
  },
  {
   "cell_type": "markdown",
   "metadata": {},
   "source": [
    "# Bar Plot"
   ]
  },
  {
   "cell_type": "code",
   "execution_count": null,
   "metadata": {},
   "outputs": [],
   "source": [
    "#Create basic barplot\n",
    "barplot(phones_51)"
   ]
  },
  {
   "cell_type": "markdown",
   "metadata": {},
   "source": [
    "Add/change few options to the barplot\n",
    " - the option col = lets you specify the color\n",
    " - the option main = lets you change the title of the plot\n",
    " - the option ylim = c() lets you specify the initial and last value for the Y axis\n",
    " \n",
    "For more, see help (cmd + i). Not accurate on arguments of the function. You should click `barplot` and look for options in there."
   ]
  },
  {
   "cell_type": "code",
   "execution_count": null,
   "metadata": {},
   "outputs": [],
   "source": [
    "barplot(phones_51, col = \"yellow\", main = \"#Phones in 1951\", ylim = c(0, 50000))"
   ]
  },
  {
   "cell_type": "markdown",
   "metadata": {},
   "source": [
    "# Histogram"
   ]
  },
  {
   "cell_type": "code",
   "execution_count": null,
   "metadata": {},
   "outputs": [],
   "source": [
    "#Load iris data\n",
    "iris <- read.csv(\"iris.csv\")\n",
    "head(iris)"
   ]
  },
  {
   "cell_type": "markdown",
   "metadata": {},
   "source": [
    "Create an histogram for the distribution of Sepal Width \n",
    "\n",
    "In the `hist()` command, first specify which column you want to use\n",
    "\n",
    "\n",
    "the `xlim = c()` lets you specify the initial and final value of the X axis\n",
    "the `xlab` lets you specify a label for the X axis"
   ]
  },
  {
   "cell_type": "code",
   "execution_count": null,
   "metadata": {},
   "outputs": [],
   "source": [
    "hist(iris$sepal_width, main = \"Distribution of Sepal Width\", col = \"red\", \n",
    "     ylim = c(0,40), xlim = c(2, 4.5), xlab =\"Sepal Weight\")"
   ]
  },
  {
   "cell_type": "markdown",
   "metadata": {},
   "source": [
    "# Boxplot"
   ]
  },
  {
   "cell_type": "code",
   "execution_count": null,
   "metadata": {},
   "outputs": [],
   "source": [
    "#Create boxplot for Sepal width, by classes (or species)\n",
    "boxplot(iris$sepal_width ~ iris$class, data = iris, ylim = c(1, 5), range = 0, xlab = \"Class\", ylab = \"Sepal Width\", main = \"Boxplot of Sepal Width by Class\")\n"
   ]
  },
  {
   "cell_type": "markdown",
   "metadata": {},
   "source": [
    "If you want to know the statistics related to the boxplot,\n",
    "first, save the boxplot as `bp` (just a name, nothing special)\n",
    "\n",
    "statistics for the boxplot will be accessible through `bp$stats`"
   ]
  },
  {
   "cell_type": "code",
   "execution_count": null,
   "metadata": {},
   "outputs": [],
   "source": [
    "bp <-boxplot(iris$sepal_width ~ iris$class, data = iris, ylim = c(1, 5), range = 0, xlab = \"Class\", ylab = \"Sepal Width\", main = \"Boxplot of Sepal Width by Class\")\n",
    "#then, run the command below. It will compute the statistics for the boxplot\n",
    "text(x = col(bp$stats) - .5, y = bp$stats, labels = bp$stats)"
   ]
  },
  {
   "cell_type": "markdown",
   "metadata": {},
   "source": [
    "# Scatter Plot"
   ]
  },
  {
   "cell_type": "code",
   "execution_count": null,
   "metadata": {},
   "outputs": [],
   "source": [
    "plot(iris$sepal_length, iris$sepal_width, xlab = \"Sepal Length\", \n",
    "     ylab = \"Sepal Width\", ylim = c(0, 5), col = \"dark green\", main = \"Relationship between Sepal Length and Sepal Width\")"
   ]
  },
  {
   "cell_type": "markdown",
   "metadata": {},
   "source": [
    "# `ggplot2`\n",
    "\n",
    "More advanced, more professional, more customizable. Most widely used visualization tool."
   ]
  },
  {
   "cell_type": "code",
   "execution_count": null,
   "metadata": {},
   "outputs": [],
   "source": [
    "# install.package(\"ggplot\")\n",
    "\n",
    "library(ggplot2)"
   ]
  },
  {
   "cell_type": "code",
   "execution_count": null,
   "metadata": {},
   "outputs": [],
   "source": [
    "# just wanted to type less in the future\n",
    "\n",
    "Sepal.Length <- iris$sepal_length\n",
    "Sepal.Width <- iris$sepal_width"
   ]
  },
  {
   "cell_type": "markdown",
   "metadata": {},
   "source": [
    "## Q(quick)plot\n",
    "\n",
    "An easy way to create \"quick plots\". `qplot` will try to guess what type of plot you want based on the input.\n",
    "\n",
    "First let's try one variable."
   ]
  },
  {
   "cell_type": "code",
   "execution_count": null,
   "metadata": {},
   "outputs": [],
   "source": [
    "qplot(data = iris, x = Sepal.Length, main = \"Distribution for Sepal Length\", xlab=\"Sepal Length\", ylab = \"Count\")\n"
   ]
  },
  {
   "cell_type": "markdown",
   "metadata": {},
   "source": [
    "But if you specify two variables, the graph type changed to scatter plot."
   ]
  },
  {
   "cell_type": "code",
   "execution_count": null,
   "metadata": {},
   "outputs": [],
   "source": [
    "qplot(data = iris, x = Sepal.Length, y=Sepal.Width, ylim = c(0,5), main = \"Relationship between Sepal Length and Width\")"
   ]
  },
  {
   "cell_type": "markdown",
   "metadata": {},
   "source": [
    "option `col =` can also be used to assign a different color to different groups in your data."
   ]
  },
  {
   "cell_type": "code",
   "execution_count": null,
   "metadata": {},
   "outputs": [],
   "source": [
    "qplot(data = iris, x = Sepal.Length, y=Sepal.Width, col=class, ylim = c(0,5), main = \"Relationship between Sepal Length and Width\")\n"
   ]
  },
  {
   "cell_type": "markdown",
   "metadata": {},
   "source": [
    "## Histogram, revisited\n",
    "\n",
    "Structure of `ggplot`. First, the skeleton:\n",
    "\n",
    "`aes()` -> aesthetics"
   ]
  },
  {
   "cell_type": "code",
   "execution_count": null,
   "metadata": {},
   "outputs": [],
   "source": [
    "ggplot(data=iris, aes(x = Sepal.Length, fill = class)) #why empty? "
   ]
  },
  {
   "cell_type": "code",
   "execution_count": null,
   "metadata": {},
   "outputs": [],
   "source": [
    "ggplot(data=iris, aes(x = Sepal.Length, fill = class)) + \n",
    "  geom_histogram(alpha=0.5) # specify graph type, y-axis is automatically determined"
   ]
  },
  {
   "cell_type": "code",
   "execution_count": null,
   "metadata": {},
   "outputs": [],
   "source": [
    "ggplot(data= iris, aes(x = Sepal.Length, fill = class)) + \n",
    "  geom_histogram(alpha=0.5) +\n",
    "  ggtitle(\"Distribution of Sepal Lenght By Class\") + # add title\n",
    "  labs(x = \"Sepal Length\", y = \"Count\") # add label"
   ]
  },
  {
   "cell_type": "markdown",
   "metadata": {},
   "source": [
    "## Boxplot"
   ]
  },
  {
   "cell_type": "code",
   "execution_count": null,
   "metadata": {},
   "outputs": [],
   "source": [
    "ggplot(data = iris, aes(x=class, y=sepal_width, color=class)) +\n",
    "  geom_boxplot(notch = TRUE, outlier.colour=\"black\", outlier.shape=8, outlier.size=3) +\n",
    "  ggtitle(\"Boxplot of Sepal Width, by Classes\") +\n",
    "  labs(x = \"Class\", y = \"Sepal Width\")"
   ]
  },
  {
   "cell_type": "markdown",
   "metadata": {},
   "source": [
    "## Scatterplot"
   ]
  },
  {
   "cell_type": "code",
   "execution_count": null,
   "metadata": {},
   "outputs": [],
   "source": [
    "ggplot(data = iris, aes(x=Sepal.Length, y=Sepal.Width, color=class, shape = class)) +\n",
    "  geom_point(size=2) +\n",
    "  ggtitle(\"Relationship between Sepal Length and Sepal Width, separated by Class\") +\n",
    "  labs(x = \"Sepal Length\", y = \"Sepal Width\")\n"
   ]
  },
  {
   "cell_type": "code",
   "execution_count": null,
   "metadata": {},
   "outputs": [],
   "source": [
    "ggplot(data = iris, aes(x=Sepal.Length, y=Sepal.Width, color=class, shape = class)) +\n",
    "  geom_point(size=2) +\n",
    "  ggtitle(\"Relationship between Sepal Length and Sepal Width, separated by Class\") +\n",
    "  labs(x = \"Sepal Length\", y = \"Sepal Width\") +\n",
    "  geom_smooth(method=lm) # add linear regression"
   ]
  },
  {
   "cell_type": "markdown",
   "metadata": {},
   "source": [
    "## Overlaying, or stacking multiple plots"
   ]
  },
  {
   "cell_type": "code",
   "execution_count": null,
   "metadata": {},
   "outputs": [],
   "source": [
    "ggplot(data = iris, aes(x = Sepal.Length)) +\n",
    "    geom_histogram(aes(y=..density..), colour=\"black\", fill=\"white\") + # histgoram\n",
    "    geom_density(alpha=.2, fill=\"light green\") + # stacked with density plot\n",
    "    labs(x=\"Sepal Length\", y = \"Density\")+\n",
    "    ggtitle(\"Distribution of Sepal Length with Density Plot\")"
   ]
  },
  {
   "cell_type": "code",
   "execution_count": null,
   "metadata": {},
   "outputs": [],
   "source": [
    "ggplot(data= iris, aes(x=Sepal.Length, color=class, fill=class))+ # color coding in aes option\n",
    "  geom_histogram(aes(y=..density..), position=\"identity\", alpha=0.5)+\n",
    "  geom_density(alpha=0.6, linetype = \"dashed\")+\n",
    "  scale_color_manual(values=c(\"#999999\", \"#E69F00\", \"#56B4E9\"))+ #additionally override some color options\n",
    "  scale_fill_manual(values=c(\"#999999\", \"#E69F00\", \"#56B4E9\"))+\n",
    "  labs(x=\"Sepal Length\", y = \"Density\")+\n",
    "  ggtitle(\"Sepal Length histogram plot\")"
   ]
  },
  {
   "cell_type": "code",
   "execution_count": null,
   "metadata": {},
   "outputs": [],
   "source": []
  }
 ],
 "metadata": {
  "kernelspec": {
   "display_name": "R",
   "language": "R",
   "name": "ir"
  },
  "language_info": {
   "codemirror_mode": "r",
   "file_extension": ".r",
   "mimetype": "text/x-r-source",
   "name": "R",
   "pygments_lexer": "r",
   "version": "4.0.2"
  }
 },
 "nbformat": 4,
 "nbformat_minor": 4
}
