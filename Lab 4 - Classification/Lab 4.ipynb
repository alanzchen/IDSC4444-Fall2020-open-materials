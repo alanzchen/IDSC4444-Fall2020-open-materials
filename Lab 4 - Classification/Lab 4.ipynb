{
 "cells": [
  {
   "cell_type": "markdown",
   "metadata": {},
   "source": [
    "# Lab 4 Classification with R\n",
    "\n",
    "## Packages\n",
    "\n",
    "If you are having trouble, use MyBinder: https://z.umn.edu/idsc4444mybinder\n",
    "\n",
    "If you are using MyBinder, you can comment out the `install.packages` lines. As I have installed them for you, so you don't have to waste time waiting for installation."
   ]
  },
  {
   "cell_type": "code",
   "execution_count": 1,
   "metadata": {},
   "outputs": [
    {
     "name": "stderr",
     "output_type": "stream",
     "text": [
      "Loading required package: lattice\n",
      "\n",
      "Loading required package: ggplot2\n",
      "\n"
     ]
    }
   ],
   "source": [
    "#Install and Load the following packages, also all available on Anaconda Navigator\n",
    "# install.packages(\"caret\")\n",
    "# install.packages(\"rpart\")\n",
    "# install.packages(\"rpart.plot\")\n",
    "# install.packages(\"e1071\")\n",
    "\n",
    "# remember, after installing the packages, you need to load them:\n",
    "\n",
    "library(\"caret\")\n",
    "library(\"e1071\")\n",
    "library(\"rpart\")\n",
    "library(\"rpart.plot\")"
   ]
  },
  {
   "cell_type": "markdown",
   "metadata": {},
   "source": [
    "## Dataset\n",
    "\n",
    "We will use the dataset customer_churn containing data from a\n",
    "telecommunication company that offers phone and internet services about\n",
    "their customers\n",
    "\n",
    "**Objective**: build classification models to predict whether a customer will\n",
    "churn or not."
   ]
  },
  {
   "cell_type": "code",
   "execution_count": 2,
   "metadata": {},
   "outputs": [],
   "source": [
    "#Load the dataset customer_churn\n",
    "data <- read.csv(\"customer_churn.csv\")"
   ]
  },
  {
   "cell_type": "markdown",
   "metadata": {},
   "source": [
    "## Splitting the Dataset\n",
    "\n",
    "Before implementing any classification method, we need to randomly split our dataset into\n",
    "training and testing dataset\n",
    "\n",
    "Let us use `createDataPartition()`\n",
    "\n",
    "- The `y` parameter takes the class/outcome variable\n",
    "- The `p` parameter takes the proportion of training data\n",
    "- The `list` parameter controls the output format. If set to be `TRUE`, it will output a list, otherwise it will output a `data.frame`.\n",
    "- Note: since the partition is randomly created, the results may be slightly different for each of us"
   ]
  },
  {
   "cell_type": "code",
   "execution_count": 3,
   "metadata": {},
   "outputs": [],
   "source": [
    "set.seed(1234)"
   ]
  },
  {
   "cell_type": "code",
   "execution_count": 4,
   "metadata": {},
   "outputs": [],
   "source": [
    "# createDataPartition is going to randomly pick 70% of our existing observations \n",
    "# and put them into the vector train_rows\n",
    "train_rows <- createDataPartition(y = data$Churn., p = 0.7, list = FALSE)"
   ]
  },
  {
   "cell_type": "markdown",
   "metadata": {},
   "source": [
    "`train_rows` now includes the index of rows in dataset. All rows that is in `train_rows` will go to the training set, and the rest not in there will go to the testing set."
   ]
  },
  {
   "cell_type": "code",
   "execution_count": 5,
   "metadata": {},
   "outputs": [
    {
     "data": {
      "text/html": [
       "<table>\n",
       "<caption>A matrix: 6 × 1 of type int</caption>\n",
       "<thead>\n",
       "\t<tr><th scope=col>Resample1</th></tr>\n",
       "</thead>\n",
       "<tbody>\n",
       "\t<tr><td>1</td></tr>\n",
       "\t<tr><td>2</td></tr>\n",
       "\t<tr><td>3</td></tr>\n",
       "\t<tr><td>5</td></tr>\n",
       "\t<tr><td>6</td></tr>\n",
       "\t<tr><td>7</td></tr>\n",
       "</tbody>\n",
       "</table>\n"
      ],
      "text/latex": [
       "A matrix: 6 × 1 of type int\n",
       "\\begin{tabular}{l}\n",
       " Resample1\\\\\n",
       "\\hline\n",
       "\t 1\\\\\n",
       "\t 2\\\\\n",
       "\t 3\\\\\n",
       "\t 5\\\\\n",
       "\t 6\\\\\n",
       "\t 7\\\\\n",
       "\\end{tabular}\n"
      ],
      "text/markdown": [
       "\n",
       "A matrix: 6 × 1 of type int\n",
       "\n",
       "| Resample1 |\n",
       "|---|\n",
       "| 1 |\n",
       "| 2 |\n",
       "| 3 |\n",
       "| 5 |\n",
       "| 6 |\n",
       "| 7 |\n",
       "\n"
      ],
      "text/plain": [
       "     Resample1\n",
       "[1,] 1        \n",
       "[2,] 2        \n",
       "[3,] 3        \n",
       "[4,] 5        \n",
       "[5,] 6        \n",
       "[6,] 7        "
      ]
     },
     "metadata": {},
     "output_type": "display_data"
    }
   ],
   "source": [
    "# each element in train_rows is the index of rows in dataset\n",
    "head(train_rows)"
   ]
  },
  {
   "cell_type": "markdown",
   "metadata": {},
   "source": [
    "Now, let's split the dataset into training and testing data:"
   ]
  },
  {
   "cell_type": "code",
   "execution_count": 6,
   "metadata": {},
   "outputs": [],
   "source": [
    "# Create the training data using the randomly picked observations from before\n",
    "data_train <- data[train_rows, ]"
   ]
  },
  {
   "cell_type": "markdown",
   "metadata": {},
   "source": [
    "We can use the minus sign `-` to select every row that is not in `train_rows`"
   ]
  },
  {
   "cell_type": "code",
   "execution_count": 7,
   "metadata": {},
   "outputs": [],
   "source": [
    "# Create the test data, by taking all the remaining observations that \n",
    "# were not included in data_train\n",
    "data_test <- data[-train_rows, ]"
   ]
  },
  {
   "cell_type": "markdown",
   "metadata": {},
   "source": [
    "## Normalizing the data\n",
    "\n",
    "Next, we need to normalize the data. In this case, we use standardization\n",
    "\n",
    "First, let us create a copy of the training and testing data"
   ]
  },
  {
   "cell_type": "code",
   "execution_count": 8,
   "metadata": {},
   "outputs": [],
   "source": [
    "data_train_stand <- data_train\n",
    "data_test_stand <- data_test"
   ]
  },
  {
   "cell_type": "code",
   "execution_count": 9,
   "metadata": {},
   "outputs": [],
   "source": [
    "#load the package standardize\n",
    "library(standardize)"
   ]
  },
  {
   "cell_type": "markdown",
   "metadata": {},
   "source": [
    "### Which columns to be normalized?\n",
    "\n",
    "Let's first take a look at the columns"
   ]
  },
  {
   "cell_type": "code",
   "execution_count": 10,
   "metadata": {},
   "outputs": [
    {
     "data": {
      "text/plain": [
       " Account.Length    Int.l.Plan        VMail.Plan     VMail.Message   \n",
       " Min.   :  1.0   Min.   :0.00000   Min.   :0.0000   Min.   : 0.000  \n",
       " 1st Qu.: 74.0   1st Qu.:0.00000   1st Qu.:0.0000   1st Qu.: 0.000  \n",
       " Median :100.0   Median :0.00000   Median :0.0000   Median : 0.000  \n",
       " Mean   :100.9   Mean   :0.09873   Mean   :0.2762   Mean   : 8.067  \n",
       " 3rd Qu.:127.0   3rd Qu.:0.00000   3rd Qu.:1.0000   3rd Qu.:19.000  \n",
       " Max.   :243.0   Max.   :1.00000   Max.   :1.0000   Max.   :51.000  \n",
       "    Day.Mins       Day.Calls       Day.Charge       Eve.Mins       Eve.Calls  \n",
       " Min.   :  0.0   Min.   :  0.0   Min.   : 0.00   Min.   :  0.0   Min.   :  0  \n",
       " 1st Qu.:144.0   1st Qu.: 87.0   1st Qu.:24.48   1st Qu.:166.7   1st Qu.: 87  \n",
       " Median :179.4   Median :101.0   Median :30.50   Median :201.6   Median :100  \n",
       " Mean   :179.9   Mean   :100.4   Mean   :30.58   Mean   :201.1   Mean   :100  \n",
       " 3rd Qu.:216.3   3rd Qu.:114.0   3rd Qu.:36.77   3rd Qu.:235.9   3rd Qu.:113  \n",
       " Max.   :350.8   Max.   :165.0   Max.   :59.64   Max.   :363.7   Max.   :168  \n",
       "   Eve.Charge      Night.Mins     Night.Calls   Night.Charge      Intl.Mins    \n",
       " Min.   : 0.00   Min.   : 23.2   Min.   : 33   Min.   : 1.040   Min.   : 0.00  \n",
       " 1st Qu.:14.17   1st Qu.:167.1   1st Qu.: 87   1st Qu.: 7.520   1st Qu.: 8.50  \n",
       " Median :17.14   Median :201.1   Median :100   Median : 9.050   Median :10.30  \n",
       " Mean   :17.09   Mean   :200.8   Mean   :100   Mean   : 9.035   Mean   :10.23  \n",
       " 3rd Qu.:20.05   3rd Qu.:235.2   3rd Qu.:113   3rd Qu.:10.580   3rd Qu.:12.07  \n",
       " Max.   :30.91   Max.   :395.0   Max.   :175   Max.   :17.770   Max.   :20.00  \n",
       "   Intl.Calls     Intl.Charge    CustServ.Calls    Churn.         \n",
       " Min.   : 0.00   Min.   :0.000   Min.   :0.00   Length:2998       \n",
       " 1st Qu.: 3.00   1st Qu.:2.300   1st Qu.:1.00   Class :character  \n",
       " Median : 4.00   Median :2.780   Median :1.00   Mode  :character  \n",
       " Mean   : 4.47   Mean   :2.762   Mean   :1.55                     \n",
       " 3rd Qu.: 6.00   3rd Qu.:3.263   3rd Qu.:2.00                     \n",
       " Max.   :19.00   Max.   :5.400   Max.   :9.00                     "
      ]
     },
     "metadata": {},
     "output_type": "display_data"
    }
   ],
   "source": [
    "summary(data)"
   ]
  },
  {
   "cell_type": "markdown",
   "metadata": {},
   "source": [
    "**Remember**: we do not standardize the outcome (class) variable\n",
    "\n",
    "So, we need to exclude the variable Churn.\n",
    "\n",
    "We will standardize variables from 1 to 17, using the `scale` function provided in the `standardize` library."
   ]
  },
  {
   "cell_type": "code",
   "execution_count": 11,
   "metadata": {},
   "outputs": [],
   "source": [
    "#We apply the function scale to the data_train_stand and data_test_stand\n",
    "data_train_stand[, 1:17] <- apply(data_train_stand[, 1:17], MARGIN = 2, FUN = scale)\n",
    "data_test_stand[, 1:17] <- apply(data_test_stand[, 1:17], MARGIN = 2, FUN = scale)"
   ]
  },
  {
   "cell_type": "markdown",
   "metadata": {},
   "source": [
    "# K-NN\n",
    "\n",
    "Classification algorithms are implemented in R using the `train()` function\n",
    "\n",
    "You need to specify:\n",
    "- The training dataset\n",
    "- The method you wish to use\n",
    "- The `Y` (outcome) and `X` (predictors) of your model. If you want to use all the predictors (attributes) you have in your dataset, you can just specify the `Y ~`.\n",
    "\n",
    "As a convention, we also call trained model a \"fitted\" model."
   ]
  },
  {
   "cell_type": "code",
   "execution_count": 12,
   "metadata": {},
   "outputs": [
    {
     "data": {
      "text/plain": [
       "k-Nearest Neighbors \n",
       "\n",
       "2100 samples\n",
       "  17 predictor\n",
       "   2 classes: 'False.', 'True.' \n",
       "\n",
       "No pre-processing\n",
       "Resampling: Bootstrapped (25 reps) \n",
       "Summary of sample sizes: 2100, 2100, 2100, 2100, 2100, 2100, ... \n",
       "Resampling results across tuning parameters:\n",
       "\n",
       "  k  Accuracy   Kappa    \n",
       "  5  0.8725433  0.3797903\n",
       "  7  0.8788033  0.3779617\n",
       "  9  0.8811396  0.3722043\n",
       "\n",
       "Accuracy was used to select the optimal model using the largest value.\n",
       "The final value used for the model was k = 9."
      ]
     },
     "metadata": {},
     "output_type": "display_data"
    }
   ],
   "source": [
    "fitKNN <- train(data = data_train_stand, method = \"knn\", Churn.~.)\n",
    "fitKNN"
   ]
  },
  {
   "cell_type": "markdown",
   "metadata": {},
   "source": [
    "---\n",
    "\n",
    "👆 `train()` will automatically and internally resample your training data into training data and validation data. It will automatically try different `k`, then evaluate the performance based on the accuracy tested on the internal validation set.\n",
    "\n",
    "---\n",
    "\n",
    "**Interpreting the results**\n",
    "\n",
    "```\n",
    "2100 samples\n",
    "  17 predictor\n",
    "   2 classes: 'False.', 'True.' \n",
    "```\n",
    "\n",
    "👆 The output shows how many observations were\n",
    "used (2100), how many attributes (17) and how\n",
    "many classes the class variable has (2, False and\n",
    "True).\n",
    "\n",
    "```\n",
    "  k  Accuracy   Kappa    \n",
    "  5  0.8725433  0.3797903\n",
    "  7  0.8788033  0.3779617\n",
    "  9  0.8811396  0.3722043\n",
    "```\n",
    "\n",
    "👆 It also shows the accuracy of the model run with\n",
    "different values of k (different number of nearest neighbors)\n",
    "\n",
    "```\n",
    "Accuracy was used to select the optimal model using the largest value.\n",
    "The final value used for the model was k = 9.\n",
    "```\n",
    "\n",
    "👆 The algorithm will pick the model with the\n",
    "highest accuracy\n",
    "\n",
    "---\n",
    "\n",
    "We can also use the following code to manually define different `k`."
   ]
  },
  {
   "cell_type": "code",
   "execution_count": 13,
   "metadata": {},
   "outputs": [
    {
     "data": {
      "text/plain": [
       "k-Nearest Neighbors \n",
       "\n",
       "2100 samples\n",
       "  17 predictor\n",
       "   2 classes: 'False.', 'True.' \n",
       "\n",
       "No pre-processing\n",
       "Resampling: Bootstrapped (25 reps) \n",
       "Summary of sample sizes: 2100, 2100, 2100, 2100, 2100, 2100, ... \n",
       "Resampling results across tuning parameters:\n",
       "\n",
       "  k   Accuracy   Kappa    \n",
       "   3  0.8627427  0.3768425\n",
       "   5  0.8764603  0.3911745\n",
       "   7  0.8821230  0.3862454\n",
       "   9  0.8851111  0.3781819\n",
       "  12  0.8815734  0.3323160\n",
       "\n",
       "Accuracy was used to select the optimal model using the largest value.\n",
       "The final value used for the model was k = 9."
      ]
     },
     "metadata": {},
     "output_type": "display_data"
    }
   ],
   "source": [
    "# We can set the values of k we would like the method to use\n",
    "grid <- expand.grid(k = c(3,5,7,9,12))\n",
    "\n",
    "fitKNN <- train(data = data_train_stand, method = \"knn\", Churn.~., \n",
    "                trControl = trainControl(search = \"grid\"), tuneGrid = grid)\n",
    "fitKNN"
   ]
  },
  {
   "cell_type": "markdown",
   "metadata": {},
   "source": [
    "## Plotting K-NN Accuracy\n",
    "\n",
    "Plot how accuracy changes with different values of `k`"
   ]
  },
  {
   "cell_type": "code",
   "execution_count": 14,
   "metadata": {},
   "outputs": [
    {
     "data": {
      "image/png": "[encoded data removed]",
      "text/plain": [
       "plot without title"
      ]
     },
     "metadata": {
      "image/png": {
       "height": 420,
       "width": 420
      }
     },
     "output_type": "display_data"
    }
   ],
   "source": [
    "#Plot how accuracy of the model changes with number of k\n",
    "#Note: since the model is trained on a random set of data, we may get slightly different results \n",
    "plot(fitKNN, ylab = \"Accuracy\")"
   ]
  },
  {
   "cell_type": "markdown",
   "metadata": {},
   "source": [
    "## Predicting new data using K-NN using Testing Data\n",
    "\n",
    "Get the predictions and then create the confusion matrix to assess the performance of the\n",
    "model.\n",
    "\n",
    "Use the k-NN model we just trained to predict the classes of the observations in the \n",
    "testing data.\n",
    "\n",
    "In other words, we are going to use the model we built on the testing data\n",
    "and try to use it to predict the class (outcome) of the observations in the testing data.\n",
    "\n",
    "Note that since we also know the \"real\" value for the class variable for the observations\n",
    "in the testing data, we can then compare the predictions obtained with the model with the\n",
    "real value to evaluate how good our model is."
   ]
  },
  {
   "cell_type": "code",
   "execution_count": 15,
   "metadata": {},
   "outputs": [],
   "source": [
    "knn_predictions <- predict(fitKNN, data_test_stand) # note that we are using testing data now"
   ]
  },
  {
   "cell_type": "code",
   "execution_count": 16,
   "metadata": {},
   "outputs": [
    {
     "data": {
      "text/html": [
       "<style>\n",
       ".list-inline {list-style: none; margin:0; padding: 0}\n",
       ".list-inline>li {display: inline-block}\n",
       ".list-inline>li:not(:last-child)::after {content: \"\\00b7\"; padding: 0 .5ex}\n",
       "</style>\n",
       "<ol class=list-inline><li>False.</li><li>False.</li><li>False.</li><li>False.</li><li>False.</li><li>False.</li></ol>\n",
       "\n",
       "<details>\n",
       "\t<summary style=display:list-item;cursor:pointer>\n",
       "\t\t<strong>Levels</strong>:\n",
       "\t</summary>\n",
       "\t<style>\n",
       "\t.list-inline {list-style: none; margin:0; padding: 0}\n",
       "\t.list-inline>li {display: inline-block}\n",
       "\t.list-inline>li:not(:last-child)::after {content: \"\\00b7\"; padding: 0 .5ex}\n",
       "\t</style>\n",
       "\t<ol class=list-inline><li>'False.'</li><li>'True.'</li></ol>\n",
       "</details>"
      ],
      "text/latex": [
       "\\begin{enumerate*}\n",
       "\\item False.\n",
       "\\item False.\n",
       "\\item False.\n",
       "\\item False.\n",
       "\\item False.\n",
       "\\item False.\n",
       "\\end{enumerate*}\n",
       "\n",
       "\\emph{Levels}: \\begin{enumerate*}\n",
       "\\item 'False.'\n",
       "\\item 'True.'\n",
       "\\end{enumerate*}\n"
      ],
      "text/markdown": [
       "1. False.\n",
       "2. False.\n",
       "3. False.\n",
       "4. False.\n",
       "5. False.\n",
       "6. False.\n",
       "\n",
       "\n",
       "\n",
       "**Levels**: 1. 'False.'\n",
       "2. 'True.'\n",
       "\n",
       "\n"
      ],
      "text/plain": [
       "[1] False. False. False. False. False. False.\n",
       "Levels: False. True."
      ]
     },
     "metadata": {},
     "output_type": "display_data"
    }
   ],
   "source": [
    "head(knn_predictions)"
   ]
  },
  {
   "cell_type": "markdown",
   "metadata": {},
   "source": [
    "## Confusion Matrix"
   ]
  },
  {
   "cell_type": "markdown",
   "metadata": {},
   "source": [
    "Use the *Confusion Matrix* to evaluate the performance of the model\n",
    "\n",
    "We use the function `confusionMatrix` and input the predictions we want to use to create the matrix.\n",
    "\n",
    "- The predictions that our model have made\n",
    "- The true label (class) of the testing data\n",
    "- The `mode` option controls what type of measures we get.\n",
    "    - if we use `mode = \"prec_recall\"` we will get `precision` and `recall` for the class that has been set as the \"positive\" class"
   ]
  },
  {
   "cell_type": "code",
   "execution_count": 17,
   "metadata": {},
   "outputs": [
    {
     "data": {
      "text/plain": [
       "Confusion Matrix and Statistics\n",
       "\n",
       "          Reference\n",
       "Prediction False. True.\n",
       "    False.    764   104\n",
       "    True.       4    26\n",
       "                                          \n",
       "               Accuracy : 0.8797          \n",
       "                 95% CI : (0.8566, 0.9003)\n",
       "    No Information Rate : 0.8552          \n",
       "    P-Value [Acc > NIR] : 0.01886         \n",
       "                                          \n",
       "                  Kappa : 0.2863          \n",
       "                                          \n",
       " Mcnemar's Test P-Value : < 2e-16         \n",
       "                                          \n",
       "              Precision : 0.8802          \n",
       "                 Recall : 0.9948          \n",
       "                     F1 : 0.9340          \n",
       "             Prevalence : 0.8552          \n",
       "         Detection Rate : 0.8508          \n",
       "   Detection Prevalence : 0.9666          \n",
       "      Balanced Accuracy : 0.5974          \n",
       "                                          \n",
       "       'Positive' Class : False.          \n",
       "                                          "
      ]
     },
     "metadata": {},
     "output_type": "display_data"
    }
   ],
   "source": [
    "confusionMatrix(as.factor(knn_predictions), as.factor(data_test_stand$Churn.), mode = \"prec_recall\")"
   ]
  },
  {
   "cell_type": "markdown",
   "metadata": {},
   "source": [
    "👆 The algorithm will randomly pick one class as \"Positive\" class, so we may want to manually specify the \"Positive\" class."
   ]
  },
  {
   "cell_type": "code",
   "execution_count": 18,
   "metadata": {},
   "outputs": [
    {
     "data": {
      "text/plain": [
       "Confusion Matrix and Statistics\n",
       "\n",
       "          Reference\n",
       "Prediction False. True.\n",
       "    False.    764   104\n",
       "    True.       4    26\n",
       "                                          \n",
       "               Accuracy : 0.8797          \n",
       "                 95% CI : (0.8566, 0.9003)\n",
       "    No Information Rate : 0.8552          \n",
       "    P-Value [Acc > NIR] : 0.01886         \n",
       "                                          \n",
       "                  Kappa : 0.2863          \n",
       "                                          \n",
       " Mcnemar's Test P-Value : < 2e-16         \n",
       "                                          \n",
       "              Precision : 0.86667         \n",
       "                 Recall : 0.20000         \n",
       "                     F1 : 0.32500         \n",
       "             Prevalence : 0.14477         \n",
       "         Detection Rate : 0.02895         \n",
       "   Detection Prevalence : 0.03341         \n",
       "      Balanced Accuracy : 0.59740         \n",
       "                                          \n",
       "       'Positive' Class : True.           \n",
       "                                          "
      ]
     },
     "metadata": {},
     "output_type": "display_data"
    }
   ],
   "source": [
    "confusionMatrix(as.factor(knn_predictions), as.factor(data_test_stand$Churn.), mode = \"prec_recall\", positive = \"True.\")"
   ]
  },
  {
   "cell_type": "markdown",
   "metadata": {},
   "source": [
    "---\n",
    "\n",
    "**Tip**: \n",
    "If you have the following error, remember to wrap your input data with `as.factor()`\n",
    "\n",
    "```Error: `data` and `reference` should be factors with the same levels.```\n",
    "\n",
    "---\n",
    "\n",
    "Without specifying `mode`, in this case, to distinguish between the two classes, the matrix will use the terms\n",
    "Sensitivity, Specificity, PPV and NPV.\n",
    "\n",
    "Sensitivity and PPV will refer to the class defined as \"positive\", that is reported at the \n",
    "bottom of the output. Specificity and NPV will refer to the other class"
   ]
  },
  {
   "cell_type": "code",
   "execution_count": 19,
   "metadata": {},
   "outputs": [
    {
     "data": {
      "text/plain": [
       "Confusion Matrix and Statistics\n",
       "\n",
       "          Reference\n",
       "Prediction False. True.\n",
       "    False.    764   104\n",
       "    True.       4    26\n",
       "                                          \n",
       "               Accuracy : 0.8797          \n",
       "                 95% CI : (0.8566, 0.9003)\n",
       "    No Information Rate : 0.8552          \n",
       "    P-Value [Acc > NIR] : 0.01886         \n",
       "                                          \n",
       "                  Kappa : 0.2863          \n",
       "                                          \n",
       " Mcnemar's Test P-Value : < 2e-16         \n",
       "                                          \n",
       "            Sensitivity : 0.20000         \n",
       "            Specificity : 0.99479         \n",
       "         Pos Pred Value : 0.86667         \n",
       "         Neg Pred Value : 0.88018         \n",
       "             Prevalence : 0.14477         \n",
       "         Detection Rate : 0.02895         \n",
       "   Detection Prevalence : 0.03341         \n",
       "      Balanced Accuracy : 0.59740         \n",
       "                                          \n",
       "       'Positive' Class : True.           \n",
       "                                          "
      ]
     },
     "metadata": {},
     "output_type": "display_data"
    }
   ],
   "source": [
    "confusionMatrix(as.factor(knn_predictions), as.factor(data_test_stand$Churn.), positive = \"True.\")"
   ]
  },
  {
   "cell_type": "markdown",
   "metadata": {},
   "source": [
    "# Decision Tree\n",
    "\n",
    "- Train a decision tree using the same `train()` function\n",
    "- But this time we specify `rpart` as method (recursive partitioning).\n",
    "- Specify your outcome variable and the predictors you want to use: `Churn. ~.`\n",
    "- If you want to use all the attributes, simply use the symbol `~` followed by `.`\n",
    "- In the case of a decision tree, **the data does not get normalized** because the decision tree uses the concept of Entropy and not a distance measure"
   ]
  },
  {
   "cell_type": "code",
   "execution_count": 20,
   "metadata": {},
   "outputs": [],
   "source": [
    "fitDT_daymins_only <- train(data = data_train, method = \"rpart\", Churn. ~ Day.Mins + Day.Calls) # in this case we only used Day.Mins and Day.Calls"
   ]
  },
  {
   "cell_type": "code",
   "execution_count": 21,
   "metadata": {},
   "outputs": [
    {
     "data": {
      "text/plain": [
       "n= 2100 \n",
       "\n",
       "node), split, n, loss, yval, (yprob)\n",
       "      * denotes terminal node\n",
       "\n",
       "1) root 2100 306 False. (0.8542857 0.1457143)  \n",
       "  2) Day.Mins< 256.35 1928 215 False. (0.8884855 0.1115145) *\n",
       "  3) Day.Mins>=256.35 172  81 True. (0.4709302 0.5290698)  \n",
       "    6) Day.Mins< 284.15 115  48 False. (0.5826087 0.4173913) *\n",
       "    7) Day.Mins>=284.15 57  14 True. (0.2456140 0.7543860) *"
      ]
     },
     "metadata": {},
     "output_type": "display_data"
    }
   ],
   "source": [
    "fitDT_daymins_only$finalModel # only uses Day.Mins and Day.Calls as the predictor"
   ]
  },
  {
   "cell_type": "markdown",
   "metadata": {},
   "source": [
    "---\n",
    "Above is a demo of how you can select predictors manually, usually we use all available predictors:"
   ]
  },
  {
   "cell_type": "code",
   "execution_count": 22,
   "metadata": {},
   "outputs": [],
   "source": [
    "fitDT <- train(data = data_train, method = \"rpart\", Churn. ~ .) # in this case we use all the attributes"
   ]
  },
  {
   "cell_type": "code",
   "execution_count": 23,
   "metadata": {},
   "outputs": [
    {
     "data": {
      "text/plain": [
       "n= 2100 \n",
       "\n",
       "node), split, n, loss, yval, (yprob)\n",
       "      * denotes terminal node\n",
       "\n",
       " 1) root 2100 306 False. (0.8542857 0.1457143)  \n",
       "   2) Day.Mins< 256.35 1928 215 False. (0.8884855 0.1115145)  \n",
       "     4) CustServ.Calls< 3.5 1785 141 False. (0.9210084 0.0789916) *\n",
       "     5) CustServ.Calls>=3.5 143  69 True. (0.4825175 0.5174825)  \n",
       "      10) Day.Mins>=174.35 65  12 False. (0.8153846 0.1846154) *\n",
       "      11) Day.Mins< 174.35 78  16 True. (0.2051282 0.7948718) *\n",
       "   3) Day.Mins>=256.35 172  81 True. (0.4709302 0.5290698)  \n",
       "     6) VMail.Plan>=0.5 48   5 False. (0.8958333 0.1041667) *\n",
       "     7) VMail.Plan< 0.5 124  38 True. (0.3064516 0.6935484) *"
      ]
     },
     "metadata": {},
     "output_type": "display_data"
    }
   ],
   "source": [
    "fitDT$finalModel"
   ]
  },
  {
   "cell_type": "code",
   "execution_count": 24,
   "metadata": {},
   "outputs": [
    {
     "data": {
      "text/html": [
       "<table>\n",
       "<caption>A rpart.rules: 5 × 15</caption>\n",
       "<thead>\n",
       "\t<tr><th></th><th scope=col>.outcome</th><th scope=col></th><th scope=col></th><th scope=col></th><th scope=col></th><th scope=col></th><th scope=col></th><th scope=col></th><th scope=col></th><th scope=col></th><th scope=col></th><th scope=col></th><th scope=col></th><th scope=col></th><th scope=col></th></tr>\n",
       "\t<tr><th></th><th scope=col>&lt;chr&gt;</th><th scope=col>&lt;chr&gt;</th><th scope=col>&lt;chr&gt;</th><th scope=col>&lt;chr&gt;</th><th scope=col>&lt;chr&gt;</th><th scope=col>&lt;chr&gt;</th><th scope=col>&lt;chr&gt;</th><th scope=col>&lt;chr&gt;</th><th scope=col>&lt;chr&gt;</th><th scope=col>&lt;chr&gt;</th><th scope=col>&lt;chr&gt;</th><th scope=col>&lt;chr&gt;</th><th scope=col>&lt;chr&gt;</th><th scope=col>&lt;chr&gt;</th><th scope=col>&lt;chr&gt;</th></tr>\n",
       "</thead>\n",
       "<tbody>\n",
       "\t<tr><th scope=row>4</th><td>0.08</td><td>when</td><td>Day.Mins</td><td>&lt; </td><td>256</td><td><span style=white-space:pre-wrap>  </span></td><td><span style=white-space:pre-wrap>   </span></td><td>&amp;</td><td>CustServ.Calls</td><td>&lt; </td><td>4</td><td> </td><td><span style=white-space:pre-wrap>          </span></td><td><span style=white-space:pre-wrap>  </span></td><td> </td></tr>\n",
       "\t<tr><th scope=row>6</th><td>0.10</td><td>when</td><td>Day.Mins</td><td>&gt;=</td><td><span style=white-space:pre-wrap>   </span></td><td><span style=white-space:pre-wrap>  </span></td><td>256</td><td> </td><td><span style=white-space:pre-wrap>              </span></td><td><span style=white-space:pre-wrap>  </span></td><td> </td><td>&amp;</td><td>VMail.Plan</td><td>is</td><td>1</td></tr>\n",
       "\t<tr><th scope=row>10</th><td>0.18</td><td>when</td><td>Day.Mins</td><td>is</td><td>174</td><td>to</td><td>256</td><td>&amp;</td><td>CustServ.Calls</td><td>&gt;=</td><td>4</td><td> </td><td><span style=white-space:pre-wrap>          </span></td><td><span style=white-space:pre-wrap>  </span></td><td> </td></tr>\n",
       "\t<tr><th scope=row>7</th><td>0.69</td><td>when</td><td>Day.Mins</td><td>&gt;=</td><td><span style=white-space:pre-wrap>   </span></td><td><span style=white-space:pre-wrap>  </span></td><td>256</td><td> </td><td><span style=white-space:pre-wrap>              </span></td><td><span style=white-space:pre-wrap>  </span></td><td> </td><td>&amp;</td><td>VMail.Plan</td><td>is</td><td>0</td></tr>\n",
       "\t<tr><th scope=row>11</th><td>0.79</td><td>when</td><td>Day.Mins</td><td>&lt; </td><td>174</td><td><span style=white-space:pre-wrap>  </span></td><td><span style=white-space:pre-wrap>   </span></td><td>&amp;</td><td>CustServ.Calls</td><td>&gt;=</td><td>4</td><td> </td><td><span style=white-space:pre-wrap>          </span></td><td><span style=white-space:pre-wrap>  </span></td><td> </td></tr>\n",
       "</tbody>\n",
       "</table>\n"
      ],
      "text/latex": [
       "A rpart.rules: 5 × 15\n",
       "\\begin{tabular}{r|lllllllllllllll}\n",
       "  & .outcome &  &  &  &  &  &  &  &  &  &  &  &  &  & \\\\\n",
       "  & <chr> & <chr> & <chr> & <chr> & <chr> & <chr> & <chr> & <chr> & <chr> & <chr> & <chr> & <chr> & <chr> & <chr> & <chr>\\\\\n",
       "\\hline\n",
       "\t4 & 0.08 & when & Day.Mins & <  & 256 &    &     & \\& & CustServ.Calls & <  & 4 &   &            &    &  \\\\\n",
       "\t6 & 0.10 & when & Day.Mins & >= &     &    & 256 &   &                &    &   & \\& & VMail.Plan & is & 1\\\\\n",
       "\t10 & 0.18 & when & Day.Mins & is & 174 & to & 256 & \\& & CustServ.Calls & >= & 4 &   &            &    &  \\\\\n",
       "\t7 & 0.69 & when & Day.Mins & >= &     &    & 256 &   &                &    &   & \\& & VMail.Plan & is & 0\\\\\n",
       "\t11 & 0.79 & when & Day.Mins & <  & 174 &    &     & \\& & CustServ.Calls & >= & 4 &   &            &    &  \\\\\n",
       "\\end{tabular}\n"
      ],
      "text/markdown": [
       "\n",
       "A rpart.rules: 5 × 15\n",
       "\n",
       "| <!--/--> | .outcome &lt;chr&gt; | <!----> &lt;chr&gt; | <!----> &lt;chr&gt; | <!----> &lt;chr&gt; | <!----> &lt;chr&gt; | <!----> &lt;chr&gt; | <!----> &lt;chr&gt; | <!----> &lt;chr&gt; | <!----> &lt;chr&gt; | <!----> &lt;chr&gt; | <!----> &lt;chr&gt; | <!----> &lt;chr&gt; | <!----> &lt;chr&gt; | <!----> &lt;chr&gt; | <!----> &lt;chr&gt; |\n",
       "|---|---|---|---|---|---|---|---|---|---|---|---|---|---|---|---|\n",
       "| 4 | 0.08 | when | Day.Mins | &lt;  | 256 | <!----> | <!----> | &amp; | CustServ.Calls | &lt;  | 4 | <!----> | <!----> | <!----> | <!----> |\n",
       "| 6 | 0.10 | when | Day.Mins | &gt;= | <!----> | <!----> | 256 | <!----> | <!----> | <!----> | <!----> | &amp; | VMail.Plan | is | 1 |\n",
       "| 10 | 0.18 | when | Day.Mins | is | 174 | to | 256 | &amp; | CustServ.Calls | &gt;= | 4 | <!----> | <!----> | <!----> | <!----> |\n",
       "| 7 | 0.69 | when | Day.Mins | &gt;= | <!----> | <!----> | 256 | <!----> | <!----> | <!----> | <!----> | &amp; | VMail.Plan | is | 0 |\n",
       "| 11 | 0.79 | when | Day.Mins | &lt;  | 174 | <!----> | <!----> | &amp; | CustServ.Calls | &gt;= | 4 | <!----> | <!----> | <!----> | <!----> |\n",
       "\n"
      ],
      "text/plain": [
       "   .outcome                                                                    \n",
       "4  0.08     when Day.Mins <  256        & CustServ.Calls <  4                  \n",
       "6  0.10     when Day.Mins >=        256                       & VMail.Plan is 1\n",
       "10 0.18     when Day.Mins is 174 to 256 & CustServ.Calls >= 4                  \n",
       "7  0.69     when Day.Mins >=        256                       & VMail.Plan is 0\n",
       "11 0.79     when Day.Mins <  174        & CustServ.Calls >= 4                  "
      ]
     },
     "metadata": {},
     "output_type": "display_data"
    }
   ],
   "source": [
    "# better representation\n",
    "rpart.rules(fitDT$finalModel)"
   ]
  },
  {
   "cell_type": "code",
   "execution_count": 25,
   "metadata": {},
   "outputs": [
    {
     "data": {
      "image/png": "[encoded data removed]",
      "text/plain": [
       "plot without title"
      ]
     },
     "metadata": {
      "image/png": {
       "height": 420,
       "width": 420
      }
     },
     "output_type": "display_data"
    }
   ],
   "source": [
    "# plot the tree\n",
    "rpart.plot(fitDT$finalModel)"
   ]
  },
  {
   "cell_type": "markdown",
   "metadata": {},
   "source": [
    "**How to interpret each rectangle**\n",
    "- The root node:\n",
    "    - The term `False` indicates what would be the classification for that node/partition, **as if that is the leaf node**\n",
    "    - The number `0.15` indicated the probability of **the other class**; in this example, `False` is the baseline class, as such 0.15 is the probability of True.\n",
    "    - The 100% indicates the proportion of training data included in that partition. The root node, of course, contains 100% of the data.\n",
    "- The light blue decision node `Day.Mins >= 174`:\n",
    "    - `True` says that in that partition/node the classification would be `True` **if we stop there**.\n",
    "    - `0.52` means that 52% of the data points in that node is the opposite of the baseline class, so in this case 52% is `True`.\n",
    "    - The `7%` indicates that this node covers 7% of the cases in the entire dataset."
   ]
  },
  {
   "cell_type": "markdown",
   "metadata": {},
   "source": [
    "## Predicting using Decision Tree on Testing Data\n",
    "\n"
   ]
  },
  {
   "cell_type": "code",
   "execution_count": 26,
   "metadata": {},
   "outputs": [],
   "source": [
    "#get the predictions from the tree\n",
    "DT_predictions <- predict(fitDT$finalModel, newdata = data_test, type = \"class\")"
   ]
  },
  {
   "cell_type": "code",
   "execution_count": 27,
   "metadata": {},
   "outputs": [
    {
     "data": {
      "text/html": [
       "<table>\n",
       "<caption>A data.frame: 6 × 18</caption>\n",
       "<thead>\n",
       "\t<tr><th></th><th scope=col>Account.Length</th><th scope=col>Int.l.Plan</th><th scope=col>VMail.Plan</th><th scope=col>VMail.Message</th><th scope=col>Day.Mins</th><th scope=col>Day.Calls</th><th scope=col>Day.Charge</th><th scope=col>Eve.Mins</th><th scope=col>Eve.Calls</th><th scope=col>Eve.Charge</th><th scope=col>Night.Mins</th><th scope=col>Night.Calls</th><th scope=col>Night.Charge</th><th scope=col>Intl.Mins</th><th scope=col>Intl.Calls</th><th scope=col>Intl.Charge</th><th scope=col>CustServ.Calls</th><th scope=col>Churn.</th></tr>\n",
       "\t<tr><th></th><th scope=col>&lt;int&gt;</th><th scope=col>&lt;int&gt;</th><th scope=col>&lt;int&gt;</th><th scope=col>&lt;int&gt;</th><th scope=col>&lt;dbl&gt;</th><th scope=col>&lt;int&gt;</th><th scope=col>&lt;dbl&gt;</th><th scope=col>&lt;dbl&gt;</th><th scope=col>&lt;int&gt;</th><th scope=col>&lt;dbl&gt;</th><th scope=col>&lt;dbl&gt;</th><th scope=col>&lt;int&gt;</th><th scope=col>&lt;dbl&gt;</th><th scope=col>&lt;dbl&gt;</th><th scope=col>&lt;int&gt;</th><th scope=col>&lt;dbl&gt;</th><th scope=col>&lt;int&gt;</th><th scope=col>&lt;chr&gt;</th></tr>\n",
       "</thead>\n",
       "<tbody>\n",
       "\t<tr><th scope=row>4</th><td> 84</td><td>1</td><td>0</td><td> 0</td><td>299.4</td><td> 71</td><td>50.90</td><td> 61.9</td><td> 88</td><td> 5.26</td><td>196.9</td><td> 89</td><td> 8.86</td><td> 6.6</td><td>7</td><td>1.78</td><td>2</td><td>False.</td></tr>\n",
       "\t<tr><th scope=row>8</th><td>147</td><td>1</td><td>0</td><td> 0</td><td>157.0</td><td> 79</td><td>26.69</td><td>103.1</td><td> 94</td><td> 8.76</td><td>211.8</td><td> 96</td><td> 9.53</td><td> 7.1</td><td>6</td><td>1.92</td><td>0</td><td>False.</td></tr>\n",
       "\t<tr><th scope=row>9</th><td>117</td><td>0</td><td>0</td><td> 0</td><td>184.5</td><td> 97</td><td>31.37</td><td>351.6</td><td> 80</td><td>29.89</td><td>215.8</td><td> 90</td><td> 9.71</td><td> 8.7</td><td>4</td><td>2.35</td><td>1</td><td>False.</td></tr>\n",
       "\t<tr><th scope=row>10</th><td>141</td><td>1</td><td>1</td><td>37</td><td>258.6</td><td> 84</td><td>43.96</td><td>222.0</td><td>111</td><td>18.87</td><td>326.4</td><td> 97</td><td>14.69</td><td>11.2</td><td>5</td><td>3.02</td><td>0</td><td>False.</td></tr>\n",
       "\t<tr><th scope=row>11</th><td> 65</td><td>0</td><td>0</td><td> 0</td><td>129.1</td><td>137</td><td>21.95</td><td>228.5</td><td> 83</td><td>19.42</td><td>208.8</td><td>111</td><td> 9.40</td><td>12.7</td><td>6</td><td>3.43</td><td>4</td><td>True. </td></tr>\n",
       "\t<tr><th scope=row>15</th><td> 62</td><td>0</td><td>0</td><td> 0</td><td>120.7</td><td> 70</td><td>20.52</td><td>307.2</td><td> 76</td><td>26.11</td><td>203.0</td><td> 99</td><td> 9.14</td><td>13.1</td><td>6</td><td>3.54</td><td>4</td><td>False.</td></tr>\n",
       "</tbody>\n",
       "</table>\n"
      ],
      "text/latex": [
       "A data.frame: 6 × 18\n",
       "\\begin{tabular}{r|llllllllllllllllll}\n",
       "  & Account.Length & Int.l.Plan & VMail.Plan & VMail.Message & Day.Mins & Day.Calls & Day.Charge & Eve.Mins & Eve.Calls & Eve.Charge & Night.Mins & Night.Calls & Night.Charge & Intl.Mins & Intl.Calls & Intl.Charge & CustServ.Calls & Churn.\\\\\n",
       "  & <int> & <int> & <int> & <int> & <dbl> & <int> & <dbl> & <dbl> & <int> & <dbl> & <dbl> & <int> & <dbl> & <dbl> & <int> & <dbl> & <int> & <chr>\\\\\n",
       "\\hline\n",
       "\t4 &  84 & 1 & 0 &  0 & 299.4 &  71 & 50.90 &  61.9 &  88 &  5.26 & 196.9 &  89 &  8.86 &  6.6 & 7 & 1.78 & 2 & False.\\\\\n",
       "\t8 & 147 & 1 & 0 &  0 & 157.0 &  79 & 26.69 & 103.1 &  94 &  8.76 & 211.8 &  96 &  9.53 &  7.1 & 6 & 1.92 & 0 & False.\\\\\n",
       "\t9 & 117 & 0 & 0 &  0 & 184.5 &  97 & 31.37 & 351.6 &  80 & 29.89 & 215.8 &  90 &  9.71 &  8.7 & 4 & 2.35 & 1 & False.\\\\\n",
       "\t10 & 141 & 1 & 1 & 37 & 258.6 &  84 & 43.96 & 222.0 & 111 & 18.87 & 326.4 &  97 & 14.69 & 11.2 & 5 & 3.02 & 0 & False.\\\\\n",
       "\t11 &  65 & 0 & 0 &  0 & 129.1 & 137 & 21.95 & 228.5 &  83 & 19.42 & 208.8 & 111 &  9.40 & 12.7 & 6 & 3.43 & 4 & True. \\\\\n",
       "\t15 &  62 & 0 & 0 &  0 & 120.7 &  70 & 20.52 & 307.2 &  76 & 26.11 & 203.0 &  99 &  9.14 & 13.1 & 6 & 3.54 & 4 & False.\\\\\n",
       "\\end{tabular}\n"
      ],
      "text/markdown": [
       "\n",
       "A data.frame: 6 × 18\n",
       "\n",
       "| <!--/--> | Account.Length &lt;int&gt; | Int.l.Plan &lt;int&gt; | VMail.Plan &lt;int&gt; | VMail.Message &lt;int&gt; | Day.Mins &lt;dbl&gt; | Day.Calls &lt;int&gt; | Day.Charge &lt;dbl&gt; | Eve.Mins &lt;dbl&gt; | Eve.Calls &lt;int&gt; | Eve.Charge &lt;dbl&gt; | Night.Mins &lt;dbl&gt; | Night.Calls &lt;int&gt; | Night.Charge &lt;dbl&gt; | Intl.Mins &lt;dbl&gt; | Intl.Calls &lt;int&gt; | Intl.Charge &lt;dbl&gt; | CustServ.Calls &lt;int&gt; | Churn. &lt;chr&gt; |\n",
       "|---|---|---|---|---|---|---|---|---|---|---|---|---|---|---|---|---|---|---|\n",
       "| 4 |  84 | 1 | 0 |  0 | 299.4 |  71 | 50.90 |  61.9 |  88 |  5.26 | 196.9 |  89 |  8.86 |  6.6 | 7 | 1.78 | 2 | False. |\n",
       "| 8 | 147 | 1 | 0 |  0 | 157.0 |  79 | 26.69 | 103.1 |  94 |  8.76 | 211.8 |  96 |  9.53 |  7.1 | 6 | 1.92 | 0 | False. |\n",
       "| 9 | 117 | 0 | 0 |  0 | 184.5 |  97 | 31.37 | 351.6 |  80 | 29.89 | 215.8 |  90 |  9.71 |  8.7 | 4 | 2.35 | 1 | False. |\n",
       "| 10 | 141 | 1 | 1 | 37 | 258.6 |  84 | 43.96 | 222.0 | 111 | 18.87 | 326.4 |  97 | 14.69 | 11.2 | 5 | 3.02 | 0 | False. |\n",
       "| 11 |  65 | 0 | 0 |  0 | 129.1 | 137 | 21.95 | 228.5 |  83 | 19.42 | 208.8 | 111 |  9.40 | 12.7 | 6 | 3.43 | 4 | True.  |\n",
       "| 15 |  62 | 0 | 0 |  0 | 120.7 |  70 | 20.52 | 307.2 |  76 | 26.11 | 203.0 |  99 |  9.14 | 13.1 | 6 | 3.54 | 4 | False. |\n",
       "\n"
      ],
      "text/plain": [
       "   Account.Length Int.l.Plan VMail.Plan VMail.Message Day.Mins Day.Calls\n",
       "4   84            1          0           0            299.4     71      \n",
       "8  147            1          0           0            157.0     79      \n",
       "9  117            0          0           0            184.5     97      \n",
       "10 141            1          1          37            258.6     84      \n",
       "11  65            0          0           0            129.1    137      \n",
       "15  62            0          0           0            120.7     70      \n",
       "   Day.Charge Eve.Mins Eve.Calls Eve.Charge Night.Mins Night.Calls Night.Charge\n",
       "4  50.90       61.9     88        5.26      196.9       89          8.86       \n",
       "8  26.69      103.1     94        8.76      211.8       96          9.53       \n",
       "9  31.37      351.6     80       29.89      215.8       90          9.71       \n",
       "10 43.96      222.0    111       18.87      326.4       97         14.69       \n",
       "11 21.95      228.5     83       19.42      208.8      111          9.40       \n",
       "15 20.52      307.2     76       26.11      203.0       99          9.14       \n",
       "   Intl.Mins Intl.Calls Intl.Charge CustServ.Calls Churn.\n",
       "4   6.6      7          1.78        2              False.\n",
       "8   7.1      6          1.92        0              False.\n",
       "9   8.7      4          2.35        1              False.\n",
       "10 11.2      5          3.02        0              False.\n",
       "11 12.7      6          3.43        4              True. \n",
       "15 13.1      6          3.54        4              False."
      ]
     },
     "metadata": {},
     "output_type": "display_data"
    }
   ],
   "source": [
    "head(data_test)"
   ]
  },
  {
   "cell_type": "code",
   "execution_count": 28,
   "metadata": {},
   "outputs": [
    {
     "data": {
      "text/html": [
       "<style>\n",
       ".dl-inline {width: auto; margin:0; padding: 0}\n",
       ".dl-inline>dt, .dl-inline>dd {float: none; width: auto; display: inline-block}\n",
       ".dl-inline>dt::after {content: \":\\0020\"; padding-right: .5ex}\n",
       ".dl-inline>dt:not(:first-of-type) {padding-left: .5ex}\n",
       "</style><dl class=dl-inline><dt>4</dt><dd>True.</dd><dt>8</dt><dd>False.</dd><dt>9</dt><dd>False.</dd><dt>10</dt><dd>False.</dd><dt>11</dt><dd>True.</dd><dt>15</dt><dd>True.</dd></dl>\n",
       "\n",
       "<details>\n",
       "\t<summary style=display:list-item;cursor:pointer>\n",
       "\t\t<strong>Levels</strong>:\n",
       "\t</summary>\n",
       "\t<style>\n",
       "\t.list-inline {list-style: none; margin:0; padding: 0}\n",
       "\t.list-inline>li {display: inline-block}\n",
       "\t.list-inline>li:not(:last-child)::after {content: \"\\00b7\"; padding: 0 .5ex}\n",
       "\t</style>\n",
       "\t<ol class=list-inline><li>'False.'</li><li>'True.'</li></ol>\n",
       "</details>"
      ],
      "text/latex": [
       "\\begin{description*}\n",
       "\\item[4] True.\n",
       "\\item[8] False.\n",
       "\\item[9] False.\n",
       "\\item[10] False.\n",
       "\\item[11] True.\n",
       "\\item[15] True.\n",
       "\\end{description*}\n",
       "\n",
       "\\emph{Levels}: \\begin{enumerate*}\n",
       "\\item 'False.'\n",
       "\\item 'True.'\n",
       "\\end{enumerate*}\n"
      ],
      "text/markdown": [
       "4\n",
       ":   True.8\n",
       ":   False.9\n",
       ":   False.10\n",
       ":   False.11\n",
       ":   True.15\n",
       ":   True.\n",
       "\n",
       "\n",
       "**Levels**: 1. 'False.'\n",
       "2. 'True.'\n",
       "\n",
       "\n"
      ],
      "text/plain": [
       "     4      8      9     10     11     15 \n",
       " True. False. False. False.  True.  True. \n",
       "Levels: False. True."
      ]
     },
     "metadata": {},
     "output_type": "display_data"
    }
   ],
   "source": [
    "head(as.factor(DT_predictions))"
   ]
  },
  {
   "cell_type": "markdown",
   "metadata": {},
   "source": [
    "## Confusion Matrix"
   ]
  },
  {
   "cell_type": "code",
   "execution_count": 29,
   "metadata": {},
   "outputs": [
    {
     "data": {
      "text/plain": [
       "Confusion Matrix and Statistics\n",
       "\n",
       "          Reference\n",
       "Prediction False. True.\n",
       "    False.    731    66\n",
       "    True.      37    64\n",
       "                                          \n",
       "               Accuracy : 0.8853          \n",
       "                 95% CI : (0.8626, 0.9054)\n",
       "    No Information Rate : 0.8552          \n",
       "    P-Value [Acc > NIR] : 0.004945        \n",
       "                                          \n",
       "                  Kappa : 0.4895          \n",
       "                                          \n",
       " Mcnemar's Test P-Value : 0.005799        \n",
       "                                          \n",
       "              Precision : 0.9172          \n",
       "                 Recall : 0.9518          \n",
       "                     F1 : 0.9342          \n",
       "             Prevalence : 0.8552          \n",
       "         Detection Rate : 0.8140          \n",
       "   Detection Prevalence : 0.8875          \n",
       "      Balanced Accuracy : 0.7221          \n",
       "                                          \n",
       "       'Positive' Class : False.          \n",
       "                                          "
      ]
     },
     "metadata": {},
     "output_type": "display_data"
    }
   ],
   "source": [
    "#Create the confusionMatrix to evaluate the performance of the model\n",
    "confusionMatrix(as.factor(DT_predictions), as.factor(data_test$Churn.), mode = \"prec_recall\")"
   ]
  },
  {
   "cell_type": "markdown",
   "metadata": {},
   "source": [
    "In this case, we care more about churn customers, so we regard `True` as \"Positive\"."
   ]
  },
  {
   "cell_type": "code",
   "execution_count": 30,
   "metadata": {},
   "outputs": [
    {
     "data": {
      "text/plain": [
       "Confusion Matrix and Statistics\n",
       "\n",
       "          Reference\n",
       "Prediction False. True.\n",
       "    False.    731    66\n",
       "    True.      37    64\n",
       "                                          \n",
       "               Accuracy : 0.8853          \n",
       "                 95% CI : (0.8626, 0.9054)\n",
       "    No Information Rate : 0.8552          \n",
       "    P-Value [Acc > NIR] : 0.004945        \n",
       "                                          \n",
       "                  Kappa : 0.4895          \n",
       "                                          \n",
       " Mcnemar's Test P-Value : 0.005799        \n",
       "                                          \n",
       "              Precision : 0.63366         \n",
       "                 Recall : 0.49231         \n",
       "                     F1 : 0.55411         \n",
       "             Prevalence : 0.14477         \n",
       "         Detection Rate : 0.07127         \n",
       "   Detection Prevalence : 0.11247         \n",
       "      Balanced Accuracy : 0.72207         \n",
       "                                          \n",
       "       'Positive' Class : True.           \n",
       "                                          "
      ]
     },
     "metadata": {},
     "output_type": "display_data"
    }
   ],
   "source": [
    "confusionMatrix(as.factor(DT_predictions), as.factor(data_test$Churn.), mode = \"prec_recall\", positive = \"True.\")"
   ]
  },
  {
   "cell_type": "code",
   "execution_count": 31,
   "metadata": {},
   "outputs": [
    {
     "data": {
      "text/plain": [
       "Confusion Matrix and Statistics\n",
       "\n",
       "          Reference\n",
       "Prediction False. True.\n",
       "    False.    731    66\n",
       "    True.      37    64\n",
       "                                          \n",
       "               Accuracy : 0.8853          \n",
       "                 95% CI : (0.8626, 0.9054)\n",
       "    No Information Rate : 0.8552          \n",
       "    P-Value [Acc > NIR] : 0.004945        \n",
       "                                          \n",
       "                  Kappa : 0.4895          \n",
       "                                          \n",
       " Mcnemar's Test P-Value : 0.005799        \n",
       "                                          \n",
       "            Sensitivity : 0.49231         \n",
       "            Specificity : 0.95182         \n",
       "         Pos Pred Value : 0.63366         \n",
       "         Neg Pred Value : 0.91719         \n",
       "             Prevalence : 0.14477         \n",
       "         Detection Rate : 0.07127         \n",
       "   Detection Prevalence : 0.11247         \n",
       "      Balanced Accuracy : 0.72207         \n",
       "                                          \n",
       "       'Positive' Class : True.           \n",
       "                                          "
      ]
     },
     "metadata": {},
     "output_type": "display_data"
    }
   ],
   "source": [
    "#If we want to get the measures for both classes, we can avoid the option mode\n",
    "confusionMatrix(as.factor(DT_predictions), as.factor(data_test$Churn.), positive = \"True.\")"
   ]
  },
  {
   "cell_type": "markdown",
   "metadata": {},
   "source": [
    "## Probabilistic Prediction\n",
    "\n",
    "- Rather than getting the class predictions, we can get the probabilities: we can get what is the\n",
    "probability that a certain observation belongs to one class or the other\n",
    "- By default, a cut-off of 50% is used\n",
    "- Nevertheless, we can change the cutoff value depending on the context\n",
    "- Example: in this case, we want to be sure to not miss any potential Churn. In other words, we want to avoid to classify a customer as `False` Churn if there is a decent probability that is a `True` Churn. We care about the **recall for the class True** more than the overall accuracy of the model or precision.\n",
    "    - We can increase the cut-off for `False.`, so that the algorithm will classify a customer as `False` Churn only if the probability is really high"
   ]
  },
  {
   "cell_type": "code",
   "execution_count": 32,
   "metadata": {},
   "outputs": [],
   "source": [
    "#First, get the predicted probabilities\n",
    "#we still use the function predict, but now we specify type = \"prob\"\n",
    "#also, we save the results in a dataframe\n",
    "DT_prob <- as.data.frame(predict(fitDT$finalModel, newdata = data_test, type = \"prob\"))"
   ]
  },
  {
   "cell_type": "code",
   "execution_count": 33,
   "metadata": {},
   "outputs": [],
   "source": [
    "#next, we create a new column in the dataframe just created that is going to assign to each\n",
    "#observation \"False\" or \"True\" based on the cutoff\n",
    "#in this example, we specify that if the Probablity of being False is > 0.87, then assign False\n",
    "#if it is lower, then we assign True\n",
    "\n",
    "DT_prob$pred_class <- ifelse(DT_prob$False. > 0.87, \"False.\", \"True.\")"
   ]
  },
  {
   "cell_type": "code",
   "execution_count": 34,
   "metadata": {},
   "outputs": [],
   "source": [
    "#transform the new created column into a class variable by using the as.factor()\n",
    "DT_prob$pred_class<- as.factor(DT_prob$pred_class)"
   ]
  },
  {
   "cell_type": "code",
   "execution_count": 35,
   "metadata": {},
   "outputs": [
    {
     "data": {
      "text/plain": [
       "Confusion Matrix and Statistics\n",
       "\n",
       "          Reference\n",
       "Prediction False. True.\n",
       "    False.    705    60\n",
       "    True.      63    70\n",
       "                                          \n",
       "               Accuracy : 0.863           \n",
       "                 95% CI : (0.8388, 0.8849)\n",
       "    No Information Rate : 0.8552          \n",
       "    P-Value [Acc > NIR] : 0.2711          \n",
       "                                          \n",
       "                  Kappa : 0.4521          \n",
       "                                          \n",
       " Mcnemar's Test P-Value : 0.8569          \n",
       "                                          \n",
       "            Sensitivity : 0.9180          \n",
       "            Specificity : 0.5385          \n",
       "         Pos Pred Value : 0.9216          \n",
       "         Neg Pred Value : 0.5263          \n",
       "             Prevalence : 0.8552          \n",
       "         Detection Rate : 0.7851          \n",
       "   Detection Prevalence : 0.8519          \n",
       "      Balanced Accuracy : 0.7282          \n",
       "                                          \n",
       "       'Positive' Class : False.          \n",
       "                                          "
      ]
     },
     "metadata": {},
     "output_type": "display_data"
    }
   ],
   "source": [
    "confusionMatrix(as.factor(DT_prob$pred_class), as.factor(data_test$Churn.))"
   ]
  },
  {
   "cell_type": "markdown",
   "metadata": {},
   "source": [
    "👆 We have a much higher sensitivity of `0.9180` versus `0.49231`, but the accuracy only dropped from `0.8853` to `0.863`!"
   ]
  },
  {
   "cell_type": "code",
   "execution_count": null,
   "metadata": {},
   "outputs": [],
   "source": []
  }
 ],
 "metadata": {
  "kernelspec": {
   "display_name": "R",
   "language": "R",
   "name": "ir"
  },
  "language_info": {
   "codemirror_mode": "r",
   "file_extension": ".r",
   "mimetype": "text/x-r-source",
   "name": "R",
   "pygments_lexer": "r",
   "version": "4.0.3"
  },
  "toc-autonumbering": true
 },
 "nbformat": 4,
 "nbformat_minor": 4
}
