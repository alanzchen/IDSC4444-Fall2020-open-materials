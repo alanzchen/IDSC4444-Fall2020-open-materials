{
 "cells": [
  {
   "cell_type": "markdown",
   "metadata": {
    "slideshow": {
     "slide_type": "slide"
    }
   },
   "source": [
    "# Lab 2: Association Rules"
   ]
  },
  {
   "cell_type": "markdown",
   "metadata": {
    "slideshow": {
     "slide_type": "subslide"
    }
   },
   "source": [
    "Learn how to:\n",
    "\n",
    "- Read transaction data into R\n",
    "- Inspect and visualize transaction data\n",
    "- Find association rules\n",
    "- Inspect the rules we find\n",
    "- We will use arules package\n",
    "- You need to install and load the package before using it"
   ]
  },
  {
   "cell_type": "code",
   "execution_count": null,
   "metadata": {
    "slideshow": {
     "slide_type": "subslide"
    }
   },
   "outputs": [],
   "source": [
    "#Load the package arules in R\n",
    "\n",
    "# install.packages(\"arules\") or install `r-arules` in Anaconda.\n",
    "# Try loading the library first, it might has been installed\n",
    "library(arules)"
   ]
  },
  {
   "cell_type": "markdown",
   "metadata": {
    "slideshow": {
     "slide_type": "slide"
    }
   },
   "source": [
    "# Data Format"
   ]
  },
  {
   "cell_type": "markdown",
   "metadata": {
    "slideshow": {
     "slide_type": "subslide"
    }
   },
   "source": [
    "We cannot load transaction data using the traditional `read.csv`:\n",
    "\n",
    "Is the following output computerable?"
   ]
  },
  {
   "cell_type": "code",
   "execution_count": null,
   "metadata": {
    "slideshow": {
     "slide_type": "subslide"
    }
   },
   "outputs": [],
   "source": [
    "#\n",
    "temp <- read.csv(\"coffeeshop.csv\", header = FALSE)\n",
    "temp"
   ]
  },
  {
   "cell_type": "markdown",
   "metadata": {
    "slideshow": {
     "slide_type": "slide"
    }
   },
   "source": [
    "# Data Formats for Transactions\n",
    "\n",
    "The data shown above is what we call a \"item list\" format, or \"shopping basket\".\n",
    "\n",
    "It is human readable, just like how you will shop in a store. But it is not helpful in a computational sense.\n",
    "\n",
    "Let's see how we can do better."
   ]
  },
  {
   "cell_type": "code",
   "execution_count": null,
   "metadata": {
    "slideshow": {
     "slide_type": "fragment"
    }
   },
   "outputs": [],
   "source": [
    "coffee_data = read.transactions(\"coffeeshop.csv\", format = \"basket\", sep = \",\", rm.duplicates = TRUE)"
   ]
  },
  {
   "cell_type": "markdown",
   "metadata": {
    "slideshow": {
     "slide_type": "fragment"
    }
   },
   "source": [
    " - `format = \"basket\"` specify how the csv file is formatted.\n",
    " - `sep = \",\"` because the csv file is comma separated.\n",
    " - `rm.duplicates` remove duplicate items in a single transaction. (We usually do this)"
   ]
  },
  {
   "cell_type": "markdown",
   "metadata": {
    "slideshow": {
     "slide_type": "slide"
    }
   },
   "source": [
    "`inspect()` can be used to see all transactions.\n",
    "\n",
    "Let's see the new data representation:"
   ]
  },
  {
   "cell_type": "code",
   "execution_count": null,
   "metadata": {
    "scrolled": true,
    "slideshow": {
     "slide_type": "slide"
    }
   },
   "outputs": [],
   "source": [
    "inspect(coffee_data)"
   ]
  },
  {
   "cell_type": "markdown",
   "metadata": {
    "slideshow": {
     "slide_type": "fragment"
    }
   },
   "source": [
    "It still looks like a item list, but now it is formatted in a way that can be computed.\n",
    "\n",
    "Now R understands each row as an itemset.\n",
    "\n",
    "Each row is now a set (as in math). For example, you can easily compute what are the unique items:"
   ]
  },
  {
   "cell_type": "code",
   "execution_count": null,
   "metadata": {
    "scrolled": true,
    "slideshow": {
     "slide_type": "slide"
    }
   },
   "outputs": [],
   "source": [
    "itemInfo(coffee_data)"
   ]
  },
  {
   "cell_type": "markdown",
   "metadata": {
    "slideshow": {
     "slide_type": "slide"
    }
   },
   "source": [
    "To learn how many items in each transaction, we can use"
   ]
  },
  {
   "cell_type": "code",
   "execution_count": null,
   "metadata": {
    "slideshow": {
     "slide_type": "subslide"
    }
   },
   "outputs": [],
   "source": [
    "size(coffee_data)"
   ]
  },
  {
   "cell_type": "markdown",
   "metadata": {
    "slideshow": {
     "slide_type": "slide"
    }
   },
   "source": [
    "## Support\n",
    "\n",
    "To find the support percentage of each unique item (frequency)"
   ]
  },
  {
   "cell_type": "code",
   "execution_count": null,
   "metadata": {
    "slideshow": {
     "slide_type": "subslide"
    }
   },
   "outputs": [],
   "source": [
    "itemFrequency(coffee_data)"
   ]
  },
  {
   "cell_type": "code",
   "execution_count": null,
   "metadata": {
    "slideshow": {
     "slide_type": "subslide"
    }
   },
   "outputs": [],
   "source": [
    "itemFrequency(coffee_data, type = \"absolute\") # or get the support count"
   ]
  },
  {
   "cell_type": "markdown",
   "metadata": {
    "slideshow": {
     "slide_type": "slide"
    }
   },
   "source": [
    "## Visualizing Support\n",
    "\n",
    "To plot the support and get a quick glance of all 1-itemsets."
   ]
  },
  {
   "cell_type": "code",
   "execution_count": null,
   "metadata": {
    "slideshow": {
     "slide_type": "subslide"
    }
   },
   "outputs": [],
   "source": [
    "itemFrequencyPlot(coffee_data, ylim = c(0, 1), main = \n",
    "                    \"Support %\", col = \"steelblue3\")"
   ]
  },
  {
   "cell_type": "markdown",
   "metadata": {
    "slideshow": {
     "slide_type": "slide"
    }
   },
   "source": [
    "we can have the items ordered based on support %  (or differently, if you have a large dataset, you can ask to see only the top N items, where N is a number of your choice)"
   ]
  },
  {
   "cell_type": "code",
   "execution_count": null,
   "metadata": {
    "slideshow": {
     "slide_type": "subslide"
    }
   },
   "outputs": [],
   "source": [
    "itemFrequencyPlot(coffee_data, ylim = c(0, 1), main = \"Support %\", col = \"steelblue3\", topN = 5)"
   ]
  },
  {
   "cell_type": "markdown",
   "metadata": {
    "slideshow": {
     "slide_type": "slide"
    }
   },
   "source": [
    "Rotate the graph to be horizontal."
   ]
  },
  {
   "cell_type": "code",
   "execution_count": null,
   "metadata": {
    "slideshow": {
     "slide_type": "subslide"
    }
   },
   "outputs": [],
   "source": [
    "itemFrequencyPlot(coffee_data, main = \"Support %\", col = \"steelblue3\", topN = 5, hor = TRUE, xlim = c(0,1))"
   ]
  },
  {
   "cell_type": "markdown",
   "metadata": {
    "slideshow": {
     "slide_type": "slide"
    }
   },
   "source": [
    "## Visualization of entire dataset\n",
    "\n",
    "On the horizontal axis, you have individual items; each column tells us in which\n",
    "transaction the corresponding item appears; on the vertical axis, you have the transactions\n",
    "each row tells us which items are included in the corresponding transaction"
   ]
  },
  {
   "cell_type": "code",
   "execution_count": null,
   "metadata": {
    "slideshow": {
     "slide_type": "subslide"
    }
   },
   "outputs": [],
   "source": [
    "itemLabels <- c(\"bagel\", \"chocolate\", \"coffee\", \"cookie\", \"tea\") # can you think of a better way when you have thousands of items? Hint: itemInfo\n",
    "image(coffee_data, xlab = itemLabels)"
   ]
  },
  {
   "cell_type": "code",
   "execution_count": null,
   "metadata": {
    "slideshow": {
     "slide_type": "slide"
    }
   },
   "outputs": [],
   "source": [
    "itemInfo(coffee_data)"
   ]
  },
  {
   "cell_type": "code",
   "execution_count": null,
   "metadata": {
    "slideshow": {
     "slide_type": "fragment"
    }
   },
   "outputs": [],
   "source": [
    "itemLabels <- itemInfo(coffee_data)$labels # automated\n",
    "image(coffee_data, xlab = itemLabels)"
   ]
  },
  {
   "cell_type": "markdown",
   "metadata": {
    "slideshow": {
     "slide_type": "fragment"
    }
   },
   "source": [
    "This is also called \"binary matrix\" format (as opposed to \"item list\"). In the matrix, the dark areas are `1`s, and light areas are `0`s.\n",
    "\n",
    "Let's try loading the dataset in binary matrix format."
   ]
  },
  {
   "cell_type": "code",
   "execution_count": null,
   "metadata": {
    "slideshow": {
     "slide_type": "slide"
    }
   },
   "outputs": [],
   "source": [
    "coffee_binary = read.csv(\"coffeeshop_binary.csv\")\n",
    "coffee_binary[c(\"bagel\", \"chocolate\", \"coffee\", \"cookie\", \"tea\")] # reorder the columns to compare with the figure above"
   ]
  },
  {
   "cell_type": "markdown",
   "metadata": {
    "slideshow": {
     "slide_type": "slide"
    }
   },
   "source": [
    "However, we are not done yet. We need to let the R understand that this is a transaction data. First, transform from a data frame to a matrix."
   ]
  },
  {
   "cell_type": "code",
   "execution_count": null,
   "metadata": {
    "slideshow": {
     "slide_type": "subslide"
    }
   },
   "outputs": [],
   "source": [
    "coffee_matrix = as.matrix(coffee_binary)\n",
    "coffee_matrix # note the difference shown in the header of the output"
   ]
  },
  {
   "cell_type": "code",
   "execution_count": null,
   "metadata": {
    "slideshow": {
     "slide_type": "slide"
    }
   },
   "outputs": [],
   "source": [
    "coffee_transaction = as(coffee_matrix, \"transactions\")\n",
    "coffee_transaction"
   ]
  },
  {
   "cell_type": "code",
   "execution_count": null,
   "metadata": {
    "slideshow": {
     "slide_type": "fragment"
    }
   },
   "outputs": [],
   "source": [
    "inspect(coffee_transaction)"
   ]
  },
  {
   "cell_type": "markdown",
   "metadata": {
    "slideshow": {
     "slide_type": "slide"
    }
   },
   "source": [
    "## Subsetting data\n",
    "\n",
    "What do coffee buyers also buy?\n",
    "\n",
    "The operator `%in%` will look for transactions that contain the item specified. If more than one item is specified, it will look for transactions that have any of the item listed"
   ]
  },
  {
   "cell_type": "code",
   "execution_count": null,
   "metadata": {
    "slideshow": {
     "slide_type": "subslide"
    }
   },
   "outputs": [],
   "source": [
    "temp <- subset(coffee_data, items %in% c(\"coffee\"))\n",
    "inspect(temp)"
   ]
  },
  {
   "cell_type": "markdown",
   "metadata": {
    "slideshow": {
     "slide_type": "slide"
    }
   },
   "source": [
    "Transactions with either coffee or tea, or both."
   ]
  },
  {
   "cell_type": "code",
   "execution_count": null,
   "metadata": {
    "slideshow": {
     "slide_type": "subslide"
    }
   },
   "outputs": [],
   "source": [
    "temp <- subset(coffee_data, items %in% c(\"coffee\", \"tea\"))\n",
    "inspect(temp)"
   ]
  },
  {
   "cell_type": "markdown",
   "metadata": {
    "slideshow": {
     "slide_type": "slide"
    }
   },
   "source": [
    "If we want to know the transactions that contain **ALL** the items listed we need to use the operator `%ain%`\n",
    "\n",
    "Transactions with coffee **AND** tea:"
   ]
  },
  {
   "cell_type": "code",
   "execution_count": null,
   "metadata": {
    "slideshow": {
     "slide_type": "subslide"
    }
   },
   "outputs": [],
   "source": [
    "temp <- subset(coffee_data, items %ain% c(\"coffee\", \"tea\"))\n",
    "inspect(temp) "
   ]
  },
  {
   "cell_type": "markdown",
   "metadata": {
    "slideshow": {
     "slide_type": "slide"
    }
   },
   "source": [
    "## Contingency Table with `crosstable`\n",
    "\n",
    "What are the two-item pairs that are most likely to be purchased together (co-occur)?\n",
    "\n",
    "You can get support, support count, lift of these item-pairs. However confidence is not supported. "
   ]
  },
  {
   "cell_type": "code",
   "execution_count": null,
   "metadata": {
    "slideshow": {
     "slide_type": "subslide"
    }
   },
   "outputs": [],
   "source": [
    "crossTable(coffee_data, sort = TRUE, measure = \"support\")"
   ]
  },
  {
   "cell_type": "code",
   "execution_count": null,
   "metadata": {
    "slideshow": {
     "slide_type": "fragment"
    }
   },
   "outputs": [],
   "source": [
    "crossTable(coffee_data, sort = TRUE, measure = \"count\")"
   ]
  },
  {
   "cell_type": "code",
   "execution_count": null,
   "metadata": {},
   "outputs": [],
   "source": [
    "crossTable(coffee_data, sort = TRUE, measure = \"probability\")"
   ]
  },
  {
   "cell_type": "code",
   "execution_count": null,
   "metadata": {
    "slideshow": {
     "slide_type": "slide"
    }
   },
   "outputs": [],
   "source": [
    "crossTable(coffee_data, sort = TRUE, measure = \"lift\")"
   ]
  },
  {
   "cell_type": "markdown",
   "metadata": {
    "slideshow": {
     "slide_type": "slide"
    }
   },
   "source": [
    "# Mining Itemsets\n",
    "\n",
    "Find all the itemsets above a certain support threshold:"
   ]
  },
  {
   "cell_type": "code",
   "execution_count": null,
   "metadata": {
    "slideshow": {
     "slide_type": "subslide"
    }
   },
   "outputs": [],
   "source": [
    "coffee_itm <- eclat(coffee_data, parameter = list(support = 0.5))"
   ]
  },
  {
   "cell_type": "code",
   "execution_count": null,
   "metadata": {
    "slideshow": {
     "slide_type": "subslide"
    }
   },
   "outputs": [],
   "source": [
    "inspect(coffee_itm)"
   ]
  },
  {
   "cell_type": "markdown",
   "metadata": {
    "slideshow": {
     "slide_type": "slide"
    }
   },
   "source": [
    "## Apriori\n",
    "\n",
    "The `apriori()` function can be used to find frequent item-sets and association rules based on the Apriori algorithm"
   ]
  },
  {
   "cell_type": "code",
   "execution_count": null,
   "metadata": {
    "slideshow": {
     "slide_type": "subslide"
    }
   },
   "outputs": [],
   "source": [
    "frequent <- apriori(coffee_data, parameter = list(supp = 0.5, target = \"frequent\"))"
   ]
  },
  {
   "cell_type": "markdown",
   "metadata": {
    "slideshow": {
     "slide_type": "slide"
    }
   },
   "source": [
    "## Inspecting Mined Association Rules\n",
    "\n",
    "`summary()` shows:\n",
    "\n",
    "The summary shows:\n",
    "\n",
    "- the most frequent item-sets\n",
    "- how many frequent item-sets were found of different sizes\n",
    "- Summary statistics for support and count\n",
    "- The last line, shows summary information about the datasets: we use the data coffee. with a total of 4 transactions and parameters used in the analysis"
   ]
  },
  {
   "cell_type": "code",
   "execution_count": null,
   "metadata": {
    "slideshow": {
     "slide_type": "slide"
    }
   },
   "outputs": [],
   "source": [
    "summary(frequent)"
   ]
  },
  {
   "cell_type": "markdown",
   "metadata": {
    "slideshow": {
     "slide_type": "slide"
    }
   },
   "source": [
    "## Further narrowing down with Confidence\n",
    "\n",
    "Only look for association rules with `supp >= 0.5` and `conf >= 0.8`. (note, in the code you need to use `=`)\n",
    "\n",
    "Also, the value of support and confidence must be enclosed in a `list()`"
   ]
  },
  {
   "cell_type": "code",
   "execution_count": null,
   "metadata": {
    "slideshow": {
     "slide_type": "subslide"
    }
   },
   "outputs": [],
   "source": [
    "rules <- apriori(coffee_data, parameter = list(supp = 0.5, conf = 0.8, target = \"rules\"))"
   ]
  },
  {
   "cell_type": "code",
   "execution_count": null,
   "metadata": {
    "slideshow": {
     "slide_type": "slide"
    }
   },
   "outputs": [],
   "source": [
    "inspect(rules)"
   ]
  },
  {
   "cell_type": "markdown",
   "metadata": {
    "slideshow": {
     "slide_type": "slide"
    }
   },
   "source": [
    "we can also specify the min number of items (`minlen`) that should be included in a association rule.\n",
    "\n",
    "`minlen = 3` means we are only looking for association rules that include at least 3 items."
   ]
  },
  {
   "cell_type": "code",
   "execution_count": null,
   "metadata": {
    "jupyter": {
     "outputs_hidden": true
    },
    "slideshow": {
     "slide_type": "subslide"
    }
   },
   "outputs": [],
   "source": [
    "rules2 <- apriori(coffee_data, parameter = list(supp = 0.5, conf = 0.8, target = \"rules\", minlen = 3))"
   ]
  },
  {
   "cell_type": "code",
   "execution_count": null,
   "metadata": {
    "slideshow": {
     "slide_type": "subslide"
    }
   },
   "outputs": [],
   "source": [
    "inspect(rules2)"
   ]
  },
  {
   "cell_type": "markdown",
   "metadata": {
    "slideshow": {
     "slide_type": "slide"
    }
   },
   "source": [
    "## Post-process the rules\n",
    "\n",
    "The `inspect()` function can be used together with `sort()` to sort the rules by support, or confidence, or lift"
   ]
  },
  {
   "cell_type": "code",
   "execution_count": null,
   "metadata": {
    "slideshow": {
     "slide_type": "subslide"
    }
   },
   "outputs": [],
   "source": [
    "inspect(sort(rules, by = \"support\"))"
   ]
  },
  {
   "cell_type": "markdown",
   "metadata": {
    "slideshow": {
     "slide_type": "slide"
    }
   },
   "source": [
    "We can specify whether we would like a certain item to appear in the antecedent (lhs) or antecedents (rhs)"
   ]
  },
  {
   "cell_type": "code",
   "execution_count": null,
   "metadata": {
    "slideshow": {
     "slide_type": "subslide"
    }
   },
   "outputs": [],
   "source": [
    "inspect(subset(rules, lhs %in% \"tea\")) #lhs = left hand side"
   ]
  },
  {
   "cell_type": "code",
   "execution_count": null,
   "metadata": {
    "slideshow": {
     "slide_type": "subslide"
    }
   },
   "outputs": [],
   "source": [
    "inspect(subset(rules, rhs %in% \"tea\"))"
   ]
  },
  {
   "cell_type": "markdown",
   "metadata": {
    "slideshow": {
     "slide_type": "slide"
    }
   },
   "source": [
    "# Visualization for Association Rules\n",
    "\n",
    "A useful library for association rule reporting is `arulesViz`."
   ]
  },
  {
   "cell_type": "code",
   "execution_count": null,
   "metadata": {
    "slideshow": {
     "slide_type": "subslide"
    }
   },
   "outputs": [],
   "source": [
    "# install.packages(\"arulesViz\") or install in Anaconda\n",
    "library(arulesViz)"
   ]
  },
  {
   "cell_type": "markdown",
   "metadata": {
    "slideshow": {
     "slide_type": "slide"
    }
   },
   "source": [
    "Use inspectDT() to see rules in an HTML interactive table"
   ]
  },
  {
   "cell_type": "code",
   "execution_count": null,
   "metadata": {
    "slideshow": {
     "slide_type": "subslide"
    }
   },
   "outputs": [],
   "source": [
    "inspectDT(rules) # may not work on Safari due to a bug in R."
   ]
  },
  {
   "cell_type": "code",
   "execution_count": null,
   "metadata": {
    "slideshow": {
     "slide_type": "slide"
    }
   },
   "outputs": [],
   "source": [
    "plot(rules, method = \"graph\") # Plot rules as a Graph"
   ]
  },
  {
   "cell_type": "markdown",
   "metadata": {
    "slideshow": {
     "slide_type": "subslide"
    }
   },
   "source": [
    "How to read this graph?\n",
    "\n",
    "Start from each node (circle). Each incoming link is the right hand side, the outgoing link is the left hand side. The color and the size of the node is the support and lift."
   ]
  },
  {
   "cell_type": "code",
   "execution_count": null,
   "metadata": {
    "slideshow": {
     "slide_type": "slide"
    }
   },
   "outputs": [],
   "source": [
    "plot(rules, method = \"graph\", edgeCol = \"#5E5E5EFF\") # change the color for the edge"
   ]
  },
  {
   "cell_type": "markdown",
   "metadata": {
    "slideshow": {
     "slide_type": "slide"
    }
   },
   "source": [
    "If you have a large dataset and a graph becomes infeasible\n",
    "we can plot a scatterplot of the rules, where the color changes based \n",
    "on a chosen measure"
   ]
  },
  {
   "cell_type": "code",
   "execution_count": null,
   "metadata": {
    "slideshow": {
     "slide_type": "subslide"
    }
   },
   "outputs": [],
   "source": [
    "plot(rules, measure = c(\"support\", \"lift\"), shading = \"confidence\")"
   ]
  },
  {
   "cell_type": "markdown",
   "metadata": {},
   "source": [
    "# Next: Hands on Exercise\n",
    "\n",
    "Questions? Open the `exercise.ipynb`."
   ]
  },
  {
   "cell_type": "code",
   "execution_count": null,
   "metadata": {},
   "outputs": [],
   "source": []
  }
 ],
 "metadata": {
  "celltoolbar": "Slideshow",
  "kernelspec": {
   "display_name": "R",
   "language": "R",
   "name": "ir"
  },
  "language_info": {
   "codemirror_mode": "r",
   "file_extension": ".r",
   "mimetype": "text/x-r-source",
   "name": "R",
   "pygments_lexer": "r",
   "version": "4.0.2"
  }
 },
 "nbformat": 4,
 "nbformat_minor": 4
}
